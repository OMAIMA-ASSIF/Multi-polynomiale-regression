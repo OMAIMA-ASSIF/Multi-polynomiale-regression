{
  "cells": [
    {
      "cell_type": "code",
      "execution_count": 179,
      "id": "4e2b49b0",
      "metadata": {
        "id": "4e2b49b0"
      },
      "outputs": [],
      "source": [
        "import numpy as np\n",
        "import pandas as pd\n",
        "from sklearn.datasets import make_regression\n",
        "import matplotlib.pyplot as plt\n",
        "%matplotlib inline"
      ]
    },
    {
      "cell_type": "markdown",
      "id": "37a160dd",
      "metadata": {
        "id": "37a160dd"
      },
      "source": [
        "# 1.Dataset"
      ]
    },
    {
      "cell_type": "code",
      "execution_count": 180,
      "id": "3aa3d2fb",
      "metadata": {
        "id": "3aa3d2fb"
      },
      "outputs": [],
      "source": [
        "dataset=pd.read_csv(\"Advertising.csv\")"
      ]
    },
    {
      "cell_type": "code",
      "execution_count": 181,
      "id": "d1c9acbe",
      "metadata": {
        "colab": {
          "base_uri": "https://localhost:8080/",
          "height": 206
        },
        "id": "d1c9acbe",
        "outputId": "e3b336fd-1641-4835-d934-8be95c102a57"
      },
      "outputs": [
        {
          "output_type": "execute_result",
          "data": {
            "text/plain": [
              "      TV  Radio  Newspaper  Sales\n",
              "0  230.1   37.8       69.2   22.1\n",
              "1   44.5   39.3       45.1   10.4\n",
              "2   17.2   45.9       69.3   12.0\n",
              "3  151.5   41.3       58.5   16.5\n",
              "4  180.8   10.8       58.4   17.9"
            ],
            "text/html": [
              "\n",
              "  <div id=\"df-c9e4d5b3-3302-4d68-b2e2-d93ac1e461bc\" class=\"colab-df-container\">\n",
              "    <div>\n",
              "<style scoped>\n",
              "    .dataframe tbody tr th:only-of-type {\n",
              "        vertical-align: middle;\n",
              "    }\n",
              "\n",
              "    .dataframe tbody tr th {\n",
              "        vertical-align: top;\n",
              "    }\n",
              "\n",
              "    .dataframe thead th {\n",
              "        text-align: right;\n",
              "    }\n",
              "</style>\n",
              "<table border=\"1\" class=\"dataframe\">\n",
              "  <thead>\n",
              "    <tr style=\"text-align: right;\">\n",
              "      <th></th>\n",
              "      <th>TV</th>\n",
              "      <th>Radio</th>\n",
              "      <th>Newspaper</th>\n",
              "      <th>Sales</th>\n",
              "    </tr>\n",
              "  </thead>\n",
              "  <tbody>\n",
              "    <tr>\n",
              "      <th>0</th>\n",
              "      <td>230.1</td>\n",
              "      <td>37.8</td>\n",
              "      <td>69.2</td>\n",
              "      <td>22.1</td>\n",
              "    </tr>\n",
              "    <tr>\n",
              "      <th>1</th>\n",
              "      <td>44.5</td>\n",
              "      <td>39.3</td>\n",
              "      <td>45.1</td>\n",
              "      <td>10.4</td>\n",
              "    </tr>\n",
              "    <tr>\n",
              "      <th>2</th>\n",
              "      <td>17.2</td>\n",
              "      <td>45.9</td>\n",
              "      <td>69.3</td>\n",
              "      <td>12.0</td>\n",
              "    </tr>\n",
              "    <tr>\n",
              "      <th>3</th>\n",
              "      <td>151.5</td>\n",
              "      <td>41.3</td>\n",
              "      <td>58.5</td>\n",
              "      <td>16.5</td>\n",
              "    </tr>\n",
              "    <tr>\n",
              "      <th>4</th>\n",
              "      <td>180.8</td>\n",
              "      <td>10.8</td>\n",
              "      <td>58.4</td>\n",
              "      <td>17.9</td>\n",
              "    </tr>\n",
              "  </tbody>\n",
              "</table>\n",
              "</div>\n",
              "    <div class=\"colab-df-buttons\">\n",
              "\n",
              "  <div class=\"colab-df-container\">\n",
              "    <button class=\"colab-df-convert\" onclick=\"convertToInteractive('df-c9e4d5b3-3302-4d68-b2e2-d93ac1e461bc')\"\n",
              "            title=\"Convert this dataframe to an interactive table.\"\n",
              "            style=\"display:none;\">\n",
              "\n",
              "  <svg xmlns=\"http://www.w3.org/2000/svg\" height=\"24px\" viewBox=\"0 -960 960 960\">\n",
              "    <path d=\"M120-120v-720h720v720H120Zm60-500h600v-160H180v160Zm220 220h160v-160H400v160Zm0 220h160v-160H400v160ZM180-400h160v-160H180v160Zm440 0h160v-160H620v160ZM180-180h160v-160H180v160Zm440 0h160v-160H620v160Z\"/>\n",
              "  </svg>\n",
              "    </button>\n",
              "\n",
              "  <style>\n",
              "    .colab-df-container {\n",
              "      display:flex;\n",
              "      gap: 12px;\n",
              "    }\n",
              "\n",
              "    .colab-df-convert {\n",
              "      background-color: #E8F0FE;\n",
              "      border: none;\n",
              "      border-radius: 50%;\n",
              "      cursor: pointer;\n",
              "      display: none;\n",
              "      fill: #1967D2;\n",
              "      height: 32px;\n",
              "      padding: 0 0 0 0;\n",
              "      width: 32px;\n",
              "    }\n",
              "\n",
              "    .colab-df-convert:hover {\n",
              "      background-color: #E2EBFA;\n",
              "      box-shadow: 0px 1px 2px rgba(60, 64, 67, 0.3), 0px 1px 3px 1px rgba(60, 64, 67, 0.15);\n",
              "      fill: #174EA6;\n",
              "    }\n",
              "\n",
              "    .colab-df-buttons div {\n",
              "      margin-bottom: 4px;\n",
              "    }\n",
              "\n",
              "    [theme=dark] .colab-df-convert {\n",
              "      background-color: #3B4455;\n",
              "      fill: #D2E3FC;\n",
              "    }\n",
              "\n",
              "    [theme=dark] .colab-df-convert:hover {\n",
              "      background-color: #434B5C;\n",
              "      box-shadow: 0px 1px 3px 1px rgba(0, 0, 0, 0.15);\n",
              "      filter: drop-shadow(0px 1px 2px rgba(0, 0, 0, 0.3));\n",
              "      fill: #FFFFFF;\n",
              "    }\n",
              "  </style>\n",
              "\n",
              "    <script>\n",
              "      const buttonEl =\n",
              "        document.querySelector('#df-c9e4d5b3-3302-4d68-b2e2-d93ac1e461bc button.colab-df-convert');\n",
              "      buttonEl.style.display =\n",
              "        google.colab.kernel.accessAllowed ? 'block' : 'none';\n",
              "\n",
              "      async function convertToInteractive(key) {\n",
              "        const element = document.querySelector('#df-c9e4d5b3-3302-4d68-b2e2-d93ac1e461bc');\n",
              "        const dataTable =\n",
              "          await google.colab.kernel.invokeFunction('convertToInteractive',\n",
              "                                                    [key], {});\n",
              "        if (!dataTable) return;\n",
              "\n",
              "        const docLinkHtml = 'Like what you see? Visit the ' +\n",
              "          '<a target=\"_blank\" href=https://colab.research.google.com/notebooks/data_table.ipynb>data table notebook</a>'\n",
              "          + ' to learn more about interactive tables.';\n",
              "        element.innerHTML = '';\n",
              "        dataTable['output_type'] = 'display_data';\n",
              "        await google.colab.output.renderOutput(dataTable, element);\n",
              "        const docLink = document.createElement('div');\n",
              "        docLink.innerHTML = docLinkHtml;\n",
              "        element.appendChild(docLink);\n",
              "      }\n",
              "    </script>\n",
              "  </div>\n",
              "\n",
              "\n",
              "    <div id=\"df-b4d17e2d-52a8-41a3-96eb-c77ad6fba66f\">\n",
              "      <button class=\"colab-df-quickchart\" onclick=\"quickchart('df-b4d17e2d-52a8-41a3-96eb-c77ad6fba66f')\"\n",
              "                title=\"Suggest charts\"\n",
              "                style=\"display:none;\">\n",
              "\n",
              "<svg xmlns=\"http://www.w3.org/2000/svg\" height=\"24px\"viewBox=\"0 0 24 24\"\n",
              "     width=\"24px\">\n",
              "    <g>\n",
              "        <path d=\"M19 3H5c-1.1 0-2 .9-2 2v14c0 1.1.9 2 2 2h14c1.1 0 2-.9 2-2V5c0-1.1-.9-2-2-2zM9 17H7v-7h2v7zm4 0h-2V7h2v10zm4 0h-2v-4h2v4z\"/>\n",
              "    </g>\n",
              "</svg>\n",
              "      </button>\n",
              "\n",
              "<style>\n",
              "  .colab-df-quickchart {\n",
              "      --bg-color: #E8F0FE;\n",
              "      --fill-color: #1967D2;\n",
              "      --hover-bg-color: #E2EBFA;\n",
              "      --hover-fill-color: #174EA6;\n",
              "      --disabled-fill-color: #AAA;\n",
              "      --disabled-bg-color: #DDD;\n",
              "  }\n",
              "\n",
              "  [theme=dark] .colab-df-quickchart {\n",
              "      --bg-color: #3B4455;\n",
              "      --fill-color: #D2E3FC;\n",
              "      --hover-bg-color: #434B5C;\n",
              "      --hover-fill-color: #FFFFFF;\n",
              "      --disabled-bg-color: #3B4455;\n",
              "      --disabled-fill-color: #666;\n",
              "  }\n",
              "\n",
              "  .colab-df-quickchart {\n",
              "    background-color: var(--bg-color);\n",
              "    border: none;\n",
              "    border-radius: 50%;\n",
              "    cursor: pointer;\n",
              "    display: none;\n",
              "    fill: var(--fill-color);\n",
              "    height: 32px;\n",
              "    padding: 0;\n",
              "    width: 32px;\n",
              "  }\n",
              "\n",
              "  .colab-df-quickchart:hover {\n",
              "    background-color: var(--hover-bg-color);\n",
              "    box-shadow: 0 1px 2px rgba(60, 64, 67, 0.3), 0 1px 3px 1px rgba(60, 64, 67, 0.15);\n",
              "    fill: var(--button-hover-fill-color);\n",
              "  }\n",
              "\n",
              "  .colab-df-quickchart-complete:disabled,\n",
              "  .colab-df-quickchart-complete:disabled:hover {\n",
              "    background-color: var(--disabled-bg-color);\n",
              "    fill: var(--disabled-fill-color);\n",
              "    box-shadow: none;\n",
              "  }\n",
              "\n",
              "  .colab-df-spinner {\n",
              "    border: 2px solid var(--fill-color);\n",
              "    border-color: transparent;\n",
              "    border-bottom-color: var(--fill-color);\n",
              "    animation:\n",
              "      spin 1s steps(1) infinite;\n",
              "  }\n",
              "\n",
              "  @keyframes spin {\n",
              "    0% {\n",
              "      border-color: transparent;\n",
              "      border-bottom-color: var(--fill-color);\n",
              "      border-left-color: var(--fill-color);\n",
              "    }\n",
              "    20% {\n",
              "      border-color: transparent;\n",
              "      border-left-color: var(--fill-color);\n",
              "      border-top-color: var(--fill-color);\n",
              "    }\n",
              "    30% {\n",
              "      border-color: transparent;\n",
              "      border-left-color: var(--fill-color);\n",
              "      border-top-color: var(--fill-color);\n",
              "      border-right-color: var(--fill-color);\n",
              "    }\n",
              "    40% {\n",
              "      border-color: transparent;\n",
              "      border-right-color: var(--fill-color);\n",
              "      border-top-color: var(--fill-color);\n",
              "    }\n",
              "    60% {\n",
              "      border-color: transparent;\n",
              "      border-right-color: var(--fill-color);\n",
              "    }\n",
              "    80% {\n",
              "      border-color: transparent;\n",
              "      border-right-color: var(--fill-color);\n",
              "      border-bottom-color: var(--fill-color);\n",
              "    }\n",
              "    90% {\n",
              "      border-color: transparent;\n",
              "      border-bottom-color: var(--fill-color);\n",
              "    }\n",
              "  }\n",
              "</style>\n",
              "\n",
              "      <script>\n",
              "        async function quickchart(key) {\n",
              "          const quickchartButtonEl =\n",
              "            document.querySelector('#' + key + ' button');\n",
              "          quickchartButtonEl.disabled = true;  // To prevent multiple clicks.\n",
              "          quickchartButtonEl.classList.add('colab-df-spinner');\n",
              "          try {\n",
              "            const charts = await google.colab.kernel.invokeFunction(\n",
              "                'suggestCharts', [key], {});\n",
              "          } catch (error) {\n",
              "            console.error('Error during call to suggestCharts:', error);\n",
              "          }\n",
              "          quickchartButtonEl.classList.remove('colab-df-spinner');\n",
              "          quickchartButtonEl.classList.add('colab-df-quickchart-complete');\n",
              "        }\n",
              "        (() => {\n",
              "          let quickchartButtonEl =\n",
              "            document.querySelector('#df-b4d17e2d-52a8-41a3-96eb-c77ad6fba66f button');\n",
              "          quickchartButtonEl.style.display =\n",
              "            google.colab.kernel.accessAllowed ? 'block' : 'none';\n",
              "        })();\n",
              "      </script>\n",
              "    </div>\n",
              "\n",
              "    </div>\n",
              "  </div>\n"
            ],
            "application/vnd.google.colaboratory.intrinsic+json": {
              "type": "dataframe",
              "variable_name": "dataset",
              "summary": "{\n  \"name\": \"dataset\",\n  \"rows\": 200,\n  \"fields\": [\n    {\n      \"column\": \"TV\",\n      \"properties\": {\n        \"dtype\": \"number\",\n        \"std\": 85.8542363149081,\n        \"min\": 0.7,\n        \"max\": 296.4,\n        \"num_unique_values\": 190,\n        \"samples\": [\n          287.6,\n          286.0,\n          78.2\n        ],\n        \"semantic_type\": \"\",\n        \"description\": \"\"\n      }\n    },\n    {\n      \"column\": \"Radio\",\n      \"properties\": {\n        \"dtype\": \"number\",\n        \"std\": 14.846809176168723,\n        \"min\": 0.0,\n        \"max\": 49.6,\n        \"num_unique_values\": 167,\n        \"samples\": [\n          8.2,\n          36.9,\n          44.5\n        ],\n        \"semantic_type\": \"\",\n        \"description\": \"\"\n      }\n    },\n    {\n      \"column\": \"Newspaper\",\n      \"properties\": {\n        \"dtype\": \"number\",\n        \"std\": 21.778620838522833,\n        \"min\": 0.3,\n        \"max\": 114.0,\n        \"num_unique_values\": 172,\n        \"samples\": [\n          22.3,\n          5.7,\n          17.0\n        ],\n        \"semantic_type\": \"\",\n        \"description\": \"\"\n      }\n    },\n    {\n      \"column\": \"Sales\",\n      \"properties\": {\n        \"dtype\": \"number\",\n        \"std\": 5.283892252561874,\n        \"min\": 1.6,\n        \"max\": 27.0,\n        \"num_unique_values\": 121,\n        \"samples\": [\n          19.8,\n          22.6,\n          17.9\n        ],\n        \"semantic_type\": \"\",\n        \"description\": \"\"\n      }\n    }\n  ]\n}"
            }
          },
          "metadata": {},
          "execution_count": 181
        }
      ],
      "source": [
        "dataset.head()"
      ]
    },
    {
      "cell_type": "code",
      "execution_count": 182,
      "id": "99e35820",
      "metadata": {
        "id": "99e35820"
      },
      "outputs": [],
      "source": [
        "X=dataset.iloc[:, :-1].values\n",
        "y=dataset.iloc[:, -1].values"
      ]
    },
    {
      "cell_type": "code",
      "execution_count": 183,
      "id": "fadd5905",
      "metadata": {
        "colab": {
          "base_uri": "https://localhost:8080/"
        },
        "id": "fadd5905",
        "outputId": "12acabdd-b2ee-4d02-a3ce-4cf03a285419"
      },
      "outputs": [
        {
          "output_type": "execute_result",
          "data": {
            "text/plain": [
              "(200, 3)"
            ]
          },
          "metadata": {},
          "execution_count": 183
        }
      ],
      "source": [
        "X.shape"
      ]
    },
    {
      "cell_type": "code",
      "execution_count": 184,
      "id": "cf9d93db",
      "metadata": {
        "colab": {
          "base_uri": "https://localhost:8080/"
        },
        "id": "cf9d93db",
        "outputId": "e9878fc6-b721-4738-ddb3-40af3cf8156f"
      },
      "outputs": [
        {
          "output_type": "execute_result",
          "data": {
            "text/plain": [
              "array([[230.1,  37.8,  69.2],\n",
              "       [ 44.5,  39.3,  45.1],\n",
              "       [ 17.2,  45.9,  69.3],\n",
              "       [151.5,  41.3,  58.5],\n",
              "       [180.8,  10.8,  58.4],\n",
              "       [  8.7,  48.9,  75. ],\n",
              "       [ 57.5,  32.8,  23.5],\n",
              "       [120.2,  19.6,  11.6],\n",
              "       [  8.6,   2.1,   1. ],\n",
              "       [199.8,   2.6,  21.2]])"
            ]
          },
          "metadata": {},
          "execution_count": 184
        }
      ],
      "source": [
        "X[:10]"
      ]
    },
    {
      "cell_type": "code",
      "execution_count": 185,
      "id": "0e4c2053",
      "metadata": {
        "colab": {
          "base_uri": "https://localhost:8080/"
        },
        "id": "0e4c2053",
        "outputId": "a78a8a07-eedc-4b3f-f928-ebbb72086f17"
      },
      "outputs": [
        {
          "output_type": "execute_result",
          "data": {
            "text/plain": [
              "((200, 3), (200,))"
            ]
          },
          "metadata": {},
          "execution_count": 185
        }
      ],
      "source": [
        "X.shape, y.shape"
      ]
    },
    {
      "cell_type": "code",
      "execution_count": 186,
      "id": "2d63731e",
      "metadata": {
        "colab": {
          "base_uri": "https://localhost:8080/"
        },
        "id": "2d63731e",
        "outputId": "a79adbe6-3409-4728-cf97-9affbc1f5bb4"
      },
      "outputs": [
        {
          "output_type": "execute_result",
          "data": {
            "text/plain": [
              "(200, 1)"
            ]
          },
          "metadata": {},
          "execution_count": 186
        }
      ],
      "source": [
        "y=dataset.iloc[:, -1].values.reshape(200,1)\n",
        "y.shape"
      ]
    },
    {
      "cell_type": "code",
      "execution_count": 187,
      "id": "9cc7fd39",
      "metadata": {
        "colab": {
          "base_uri": "https://localhost:8080/"
        },
        "id": "9cc7fd39",
        "outputId": "47871030-767e-4926-d82d-28726c14ae38"
      },
      "outputs": [
        {
          "output_type": "execute_result",
          "data": {
            "text/plain": [
              "array([[22.1],\n",
              "       [10.4],\n",
              "       [12. ],\n",
              "       [16.5],\n",
              "       [17.9],\n",
              "       [ 7.2],\n",
              "       [11.8],\n",
              "       [13.2],\n",
              "       [ 4.8],\n",
              "       [15.6]])"
            ]
          },
          "metadata": {},
          "execution_count": 187
        }
      ],
      "source": [
        "y[:10]"
      ]
    },
    {
      "cell_type": "markdown",
      "id": "a7086716",
      "metadata": {
        "id": "a7086716"
      },
      "source": [
        "# 2.Selection du degree\n",
        "### Validation croisee"
      ]
    },
    {
      "cell_type": "code",
      "execution_count": 188,
      "id": "5a53caf2",
      "metadata": {
        "colab": {
          "base_uri": "https://localhost:8080/",
          "height": 488
        },
        "id": "5a53caf2",
        "outputId": "f247ed2d-728d-42bb-f639-30793f57c9a6"
      },
      "outputs": [
        {
          "output_type": "display_data",
          "data": {
            "text/plain": [
              "<Figure size 800x500 with 1 Axes>"
            ],
            "image/png": "[encoded data removed]"
          },
          "metadata": {}
        }
      ],
      "source": [
        "import numpy as np\n",
        "import matplotlib.pyplot as plt\n",
        "from sklearn.preprocessing import PolynomialFeatures\n",
        "from sklearn.linear_model import LinearRegression\n",
        "from sklearn.metrics import mean_squared_error\n",
        "from sklearn.model_selection import train_test_split, cross_val_score\n",
        "# Séparation des données en jeu d'entraînement et de test\n",
        "X_train, X_test, y_train, y_test = train_test_split(X, y, test_size=0.2, random_state=42)\n",
        "\n",
        "# Tester plusieurs degrés sur les données d'entraînement uniquement\n",
        "degrees = range(1, 10)\n",
        "cv_errors = []\n",
        "\n",
        "for d in degrees:\n",
        "    poly = PolynomialFeatures(degree=d)\n",
        "    X_train_poly = poly.fit_transform(X_train)\n",
        "\n",
        "    model = LinearRegression()\n",
        "\n",
        "\n",
        "    # Validation croisée sur l'ensemble d'entraînement\n",
        "    scores = cross_val_score(model, X_train_poly, y_train, cv=5, scoring='neg_mean_squared_error')\n",
        "    cv_errors.append(-np.mean(scores))\n",
        "\n",
        "# Trouver le degré optimal selon la validation croisée\n",
        "optimal_degree = degrees[np.argmin(cv_errors)]\n",
        "\n",
        "# Affichage des erreurs de validation croisée\n",
        "plt.figure(figsize=(8, 5))\n",
        "plt.plot(degrees, cv_errors, marker='o', label=\"Erreur de validation croisée\")\n",
        "plt.axvline(optimal_degree, color='red', linestyle='--', label=f\"Degré optimal = {optimal_degree}\")\n",
        "plt.xlabel(\"Degré du polynôme\")\n",
        "plt.ylabel(\"Erreur quadratique moyenne (MSE)\")\n",
        "plt.title(\"Choix du degré optimal avec Validation Croisée\")\n",
        "plt.legend()\n",
        "plt.show()\n"
      ]
    },
    {
      "cell_type": "markdown",
      "source": [
        "### BIC"
      ],
      "metadata": {
        "id": "j1kxI_N-gGBk"
      },
      "id": "j1kxI_N-gGBk"
    },
    {
      "cell_type": "code",
      "source": [
        "import numpy as np\n",
        "import matplotlib.pyplot as plt\n",
        "from sklearn.preprocessing import PolynomialFeatures\n",
        "from sklearn.linear_model import LinearRegression\n",
        "from sklearn.metrics import mean_squared_error\n",
        "from sklearn.model_selection import train_test_split\n",
        "\n",
        "# Séparation des données en jeu d'entraînement et de test\n",
        "X_train, X_test, y_train, y_test = train_test_split(X, y, test_size=0.2, random_state=42)\n",
        "\n",
        "# Tester plusieurs degrés sur l'ensemble d'entraînement uniquement\n",
        "degrees = range(1, 10)\n",
        "bic_values = []\n",
        "\n",
        "n_train = len(y_train)  # Nombre d'observations dans l'ensemble d'entraînement\n",
        "\n",
        "for d in degrees:\n",
        "    poly = PolynomialFeatures(degree=d)\n",
        "    X_train_poly = poly.fit_transform(X_train)\n",
        "\n",
        "    model = LinearRegression()\n",
        "    model.fit(X_train_poly, y_train)\n",
        "\n",
        "    # Prédictions et erreur quadratique moyenne sur l'ensemble d'entraînement\n",
        "    y_train_pred = model.predict(X_train_poly)\n",
        "    mse = mean_squared_error(y_train, y_train_pred)\n",
        "\n",
        "    # Calcul du BIC sur l'ensemble d'entraînement\n",
        "    k = X_train_poly.shape[1]  # Nombre de paramètres (termes polynomiaux)\n",
        "    bic = n_train * np.log(mse) + k * np.log(n_train)\n",
        "    bic_values.append(bic)\n",
        "\n",
        "# Trouver le degré optimal selon le BIC\n",
        "optimal_degree_bic = degrees[np.argmin(bic_values)]\n",
        "\n",
        "# Affichage des valeurs de BIC\n",
        "plt.figure(figsize=(8, 5))\n",
        "plt.plot(degrees, bic_values, marker='o', label=\"BIC\")\n",
        "plt.axvline(optimal_degree_bic, color='red', linestyle='--', label=f\"Degré optimal = {optimal_degree_bic}\")\n",
        "plt.xlabel(\"Degré du polynôme\")\n",
        "plt.ylabel(\"BIC\")\n",
        "plt.title(\"Choix du degré optimal avec BIC\")\n",
        "plt.legend()\n",
        "plt.show()\n",
        "\n",
        "print(f\"Degré optimal selon le BIC : {optimal_degree_bic}\")"
      ],
      "metadata": {
        "colab": {
          "base_uri": "https://localhost:8080/",
          "height": 505
        },
        "id": "Mqk2M1QNPhyW",
        "outputId": "db0330da-2e3e-46be-a8e5-f8a892f73c24"
      },
      "id": "Mqk2M1QNPhyW",
      "execution_count": 189,
      "outputs": [
        {
          "output_type": "display_data",
          "data": {
            "text/plain": [
              "<Figure size 800x500 with 1 Axes>"
            ],
            "image/png": "[encoded data removed]"
          },
          "metadata": {}
        },
        {
          "output_type": "stream",
          "name": "stdout",
          "text": [
            "Degré optimal selon le BIC : 2\n"
          ]
        }
      ]
    },
    {
      "cell_type": "markdown",
      "id": "ccce47e5",
      "metadata": {
        "id": "ccce47e5"
      },
      "source": [
        "#### Savoir le nombre de termes\n",
        "#### degree =2\n",
        "#### Nombre de variables = 3 (TV, Radio, Journal)\n",
        "#### Nombre de termes = (n+d)!/n!d! = (3+2)!/3!2! = 10"
      ]
    },
    {
      "cell_type": "markdown",
      "id": "4096b2b4",
      "metadata": {
        "id": "4096b2b4"
      },
      "source": []
    },
    {
      "cell_type": "markdown",
      "source": [
        "# 3.Creation de la matrice\n"
      ],
      "metadata": {
        "id": "RJAJesoEgZOI"
      },
      "id": "RJAJesoEgZOI"
    },
    {
      "cell_type": "code",
      "execution_count": 190,
      "id": "1aabd813",
      "metadata": {
        "colab": {
          "base_uri": "https://localhost:8080/"
        },
        "id": "1aabd813",
        "outputId": "53cc572a-3645-4b04-bec3-9bab610c231f"
      },
      "outputs": [
        {
          "output_type": "stream",
          "name": "stdout",
          "text": [
            "(200, 9)\n",
            "[[2.301000e+02 3.780000e+01 6.920000e+01 8.697780e+03 1.592292e+04\n",
            "  2.615760e+03 5.294601e+04 1.428840e+03 4.788640e+03]\n",
            " [4.450000e+01 3.930000e+01 4.510000e+01 1.748850e+03 2.006950e+03\n",
            "  1.772430e+03 1.980250e+03 1.544490e+03 2.034010e+03]\n",
            " [1.720000e+01 4.590000e+01 6.930000e+01 7.894800e+02 1.191960e+03\n",
            "  3.180870e+03 2.958400e+02 2.106810e+03 4.802490e+03]\n",
            " [1.515000e+02 4.130000e+01 5.850000e+01 6.256950e+03 8.862750e+03\n",
            "  2.416050e+03 2.295225e+04 1.705690e+03 3.422250e+03]\n",
            " [1.808000e+02 1.080000e+01 5.840000e+01 1.952640e+03 1.055872e+04\n",
            "  6.307200e+02 3.268864e+04 1.166400e+02 3.410560e+03]\n",
            " [8.700000e+00 4.890000e+01 7.500000e+01 4.254300e+02 6.525000e+02\n",
            "  3.667500e+03 7.569000e+01 2.391210e+03 5.625000e+03]\n",
            " [5.750000e+01 3.280000e+01 2.350000e+01 1.886000e+03 1.351250e+03\n",
            "  7.708000e+02 3.306250e+03 1.075840e+03 5.522500e+02]\n",
            " [1.202000e+02 1.960000e+01 1.160000e+01 2.355920e+03 1.394320e+03\n",
            "  2.273600e+02 1.444804e+04 3.841600e+02 1.345600e+02]\n",
            " [8.600000e+00 2.100000e+00 1.000000e+00 1.806000e+01 8.600000e+00\n",
            "  2.100000e+00 7.396000e+01 4.410000e+00 1.000000e+00]\n",
            " [1.998000e+02 2.600000e+00 2.120000e+01 5.194800e+02 4.235760e+03\n",
            "  5.512000e+01 3.992004e+04 6.760000e+00 4.494400e+02]]\n"
          ]
        }
      ],
      "source": [
        "# Création de la matrice X, incluant le biais\n",
        "# x1, x2, x3, x1*x2, x1*x3, x2*x3, x1^2, x2^2, x3^2, 1\n",
        "x1 = X[:, 0:1]\n",
        "x2 = X[:, 1:2]\n",
        "x3 = X[:, 2:3]\n",
        "\n",
        "X = np.hstack((\n",
        "    x1, x2, x3,\n",
        "    x1 * x2, x1 * x3, x2 * x3,\n",
        "    x1**2, x2**2, x3**2,\n",
        "))\n",
        "print(X.shape)\n",
        "print(X[:10])\n"
      ]
    },
    {
      "cell_type": "markdown",
      "source": [
        "# 4.Data Split\n"
      ],
      "metadata": {
        "id": "YZ8Z5JLugfLx"
      },
      "id": "YZ8Z5JLugfLx"
    },
    {
      "cell_type": "code",
      "execution_count": 191,
      "id": "b1a1865b",
      "metadata": {
        "colab": {
          "base_uri": "https://localhost:8080/"
        },
        "id": "b1a1865b",
        "outputId": "24ffea67-5f1c-4740-dc29-c84d52249ee7"
      },
      "outputs": [
        {
          "output_type": "stream",
          "name": "stdout",
          "text": [
            "(160, 9)\n",
            "(40, 9)\n",
            "(160, 1)\n",
            "(40, 1)\n"
          ]
        }
      ],
      "source": [
        "from sklearn.model_selection import train_test_split\n",
        "\n",
        "x_train, x_test, y_train, y_test = train_test_split(X, y, test_size=0.2, random_state=42)\n",
        "print(x_train.shape)\n",
        "print(x_test.shape)\n",
        "print(y_train.shape)\n",
        "print(y_test.shape)"
      ]
    },
    {
      "cell_type": "markdown",
      "id": "90cd5ea8",
      "metadata": {
        "id": "90cd5ea8"
      },
      "source": [
        "# 5. Normalisation"
      ]
    },
    {
      "cell_type": "code",
      "execution_count": 192,
      "id": "1e6b7f9e",
      "metadata": {
        "id": "1e6b7f9e"
      },
      "outputs": [],
      "source": [
        "def z_score_normalization(data):\n",
        "\n",
        "    # Calcul des moyennes et des déviations standard de chaque caractéristique\n",
        "    mean = np.mean(data, axis=0)\n",
        "    std = np.std(data, axis=0)\n",
        "\n",
        "    # Normalisation des données en utilisant la méthode Z-score\n",
        "    data_normalized = (data - mean) / std\n",
        "\n",
        "    return data_normalized, mean, std"
      ]
    },
    {
      "cell_type": "code",
      "execution_count": 193,
      "id": "ef2ddfd3",
      "metadata": {
        "colab": {
          "base_uri": "https://localhost:8080/"
        },
        "id": "ef2ddfd3",
        "outputId": "52ee7716-c959-432e-f9c3-e1ee90ee1446"
      },
      "outputs": [
        {
          "output_type": "execute_result",
          "data": {
            "text/plain": [
              "array([[-0.40424839, -1.02823707, -0.33767538, ..., -0.6344003 ,\n",
              "        -0.93748644, -0.48921405],\n",
              "       [ 0.32060772, -0.91982774, -1.16143931, ...,  0.06847389,\n",
              "        -0.90008756, -0.80055117],\n",
              "       [-1.27051084,  0.2591237 ,  0.25425079, ..., -1.09051897,\n",
              "        -0.03881329, -0.04785031],\n",
              "       ...,\n",
              "       [ 0.80424121,  0.71986334,  1.43317042, ...,  0.70021868,\n",
              "         0.5240399 ,  1.37343067],\n",
              "       [ 0.1851428 , -0.87239866, -0.60897488, ..., -0.08511944,\n",
              "        -0.88151187, -0.63067922],\n",
              "       [ 1.54692165, -0.86562307, -0.42153159, ...,  1.92399567,\n",
              "        -0.8787482 , -0.53702213]])"
            ]
          },
          "metadata": {},
          "execution_count": 193
        }
      ],
      "source": [
        "x_train_norm, mean,std=z_score_normalization(x_train)\n",
        "x_train_norm"
      ]
    },
    {
      "cell_type": "code",
      "execution_count": 194,
      "id": "c69ce99e",
      "metadata": {
        "colab": {
          "base_uri": "https://localhost:8080/"
        },
        "id": "c69ce99e",
        "outputId": "7f29ac7d-3923-4cc8-8900-ca35fe08f8d6"
      },
      "outputs": [
        {
          "output_type": "execute_result",
          "data": {
            "text/plain": [
              "np.float64(-9.86864910777917e-18)"
            ]
          },
          "metadata": {},
          "execution_count": 194
        }
      ],
      "source": [
        "x_train_norm.mean()"
      ]
    },
    {
      "cell_type": "code",
      "source": [
        "x_test_norm, mean,std=z_score_normalization(x_test)\n"
      ],
      "metadata": {
        "id": "jfc2dZgbQ3XY"
      },
      "id": "jfc2dZgbQ3XY",
      "execution_count": 195,
      "outputs": []
    },
    {
      "cell_type": "code",
      "source": [
        "x_test_norm.mean()"
      ],
      "metadata": {
        "colab": {
          "base_uri": "https://localhost:8080/"
        },
        "id": "TTNoADuIW-Uv",
        "outputId": "809ba196-18ec-4397-ce04-2306f13e9411"
      },
      "id": "TTNoADuIW-Uv",
      "execution_count": 196,
      "outputs": [
        {
          "output_type": "execute_result",
          "data": {
            "text/plain": [
              "np.float64(-1.4802973661668754e-17)"
            ]
          },
          "metadata": {},
          "execution_count": 196
        }
      ]
    },
    {
      "cell_type": "markdown",
      "source": [
        "# 6.Colonne des 1 'Biais'\n"
      ],
      "metadata": {
        "id": "CuDDCxj5gwp8"
      },
      "id": "CuDDCxj5gwp8"
    },
    {
      "cell_type": "code",
      "source": [
        "#Ajout de la colonne des 1\n",
        "x_train_norm1 = np.hstack((np.ones((x_train_norm.shape[0], 1)), x_train_norm))\n",
        "x_test_norm1 = np.hstack((np.ones((x_test_norm.shape[0], 1)), x_test_norm))\n",
        "x_train_norm.shape, x_test_norm.shape"
      ],
      "metadata": {
        "colab": {
          "base_uri": "https://localhost:8080/"
        },
        "id": "LepMkm-5XLgK",
        "outputId": "6d580d65-5156-4e51-f2e6-cec49ec41c29"
      },
      "id": "LepMkm-5XLgK",
      "execution_count": 197,
      "outputs": [
        {
          "output_type": "execute_result",
          "data": {
            "text/plain": [
              "((160, 9), (40, 9))"
            ]
          },
          "metadata": {},
          "execution_count": 197
        }
      ]
    },
    {
      "cell_type": "code",
      "source": [
        "theta  = np.random.randn(x_train_norm1.shape[1], 1)\n",
        "theta"
      ],
      "metadata": {
        "colab": {
          "base_uri": "https://localhost:8080/"
        },
        "id": "d-YZQl5LX_vu",
        "outputId": "a726470c-1e95-4ee5-8b96-6564b70abf31"
      },
      "id": "d-YZQl5LX_vu",
      "execution_count": 198,
      "outputs": [
        {
          "output_type": "execute_result",
          "data": {
            "text/plain": [
              "array([[ 1.410262  ],\n",
              "       [-0.1860437 ],\n",
              "       [-0.80724597],\n",
              "       [ 1.45160943],\n",
              "       [-0.14858858],\n",
              "       [-0.48683057],\n",
              "       [ 0.85143936],\n",
              "       [ 1.74120046],\n",
              "       [ 0.60693999],\n",
              "       [-1.54952783]])"
            ]
          },
          "metadata": {},
          "execution_count": 198
        }
      ]
    },
    {
      "cell_type": "markdown",
      "source": [
        "# 7.Modele de regression\n"
      ],
      "metadata": {
        "id": "up3N4ZWmg6s0"
      },
      "id": "up3N4ZWmg6s0"
    },
    {
      "cell_type": "code",
      "source": [
        "def model(X, theta):\n",
        "    return X.dot(theta)"
      ],
      "metadata": {
        "id": "FCr8cYh2YLR7"
      },
      "id": "FCr8cYh2YLR7",
      "execution_count": 199,
      "outputs": []
    },
    {
      "cell_type": "markdown",
      "source": [
        "# 8. Fonction cout\n"
      ],
      "metadata": {
        "id": "yBBBHAHOhAHK"
      },
      "id": "yBBBHAHOhAHK"
    },
    {
      "cell_type": "code",
      "source": [
        "def cost_function(X, y, theta):\n",
        "    m = len(y)\n",
        "    return 1/(2*m) * np.sum((model(X, theta) - y)**2)\n",
        "\n"
      ],
      "metadata": {
        "id": "ShAF3topYQm2"
      },
      "id": "ShAF3topYQm2",
      "execution_count": 200,
      "outputs": []
    },
    {
      "cell_type": "code",
      "source": [
        "cost_function(x_train_norm1, y_train ,theta)"
      ],
      "metadata": {
        "colab": {
          "base_uri": "https://localhost:8080/"
        },
        "id": "n2Y7Wjp5YS3C",
        "outputId": "91c6681b-a623-43b0-e0ff-3d682a9a8a48"
      },
      "id": "n2Y7Wjp5YS3C",
      "execution_count": 201,
      "outputs": [
        {
          "output_type": "execute_result",
          "data": {
            "text/plain": [
              "np.float64(106.09042260645829)"
            ]
          },
          "metadata": {},
          "execution_count": 201
        }
      ]
    },
    {
      "cell_type": "markdown",
      "source": [
        "# 9.Entrainement\n"
      ],
      "metadata": {
        "id": "H8k4XJe9hE77"
      },
      "id": "H8k4XJe9hE77"
    },
    {
      "cell_type": "code",
      "source": [
        "#La fonction de gradient\n",
        "def grad(X, y, theta):\n",
        "    m = len(y)\n",
        "    return 1/m * X.T.dot(model(X, theta) - y)"
      ],
      "metadata": {
        "id": "5cmxiRmDYnKq"
      },
      "id": "5cmxiRmDYnKq",
      "execution_count": 202,
      "outputs": []
    },
    {
      "cell_type": "code",
      "source": [
        "# La fonction de la descente du gradient\n",
        "def gradient_descent(X, y, theta, learning_rate, n_iterations):\n",
        "\n",
        "    cost_history = np.zeros(n_iterations) # création d'un tableau de stockage pour enregistrer l'évolution du coût du modèle\n",
        "\n",
        "    for i in range(0, n_iterations):\n",
        "        theta = theta - learning_rate * grad(X, y, theta) # mise a jour du paramétre theta (formule de la descente de gradient descent)\n",
        "        cost_history[i] = cost_function(X, y, theta) # on enregistre la valeur du coût à l'itération i dans cost_history[i]\n",
        "\n",
        "    return theta, cost_history"
      ],
      "metadata": {
        "id": "M-Q24PiLYoNw"
      },
      "id": "M-Q24PiLYoNw",
      "execution_count": 203,
      "outputs": []
    },
    {
      "cell_type": "code",
      "source": [
        "#Entrainement\n",
        "n_iterations = 5000\n",
        "learning_rate = 0.1\n",
        "theta_final, cost_history = gradient_descent(x_train_norm1, y_train, theta, learning_rate, n_iterations)\n",
        "\n"
      ],
      "metadata": {
        "id": "EB_AD9YpYqaU"
      },
      "id": "EB_AD9YpYqaU",
      "execution_count": 204,
      "outputs": []
    },
    {
      "cell_type": "code",
      "source": [
        "theta_final"
      ],
      "metadata": {
        "colab": {
          "base_uri": "https://localhost:8080/"
        },
        "id": "9hEaXY_LY2b0",
        "outputId": "67d4380f-272f-472a-ed67-71c313cfd304"
      },
      "id": "9hEaXY_LY2b0",
      "execution_count": 205,
      "outputs": [
        {
          "output_type": "execute_result",
          "data": {
            "text/plain": [
              "array([[15.330625  ],\n",
              "       [ 6.41396701],\n",
              "       [-0.47204178],\n",
              "       [-0.0389286 ],\n",
              "       [ 1.38577943],\n",
              "       [-0.11930873],\n",
              "       [ 0.14675952],\n",
              "       [-2.69052626],\n",
              "       [ 1.05326583],\n",
              "       [ 0.13492386]])"
            ]
          },
          "metadata": {},
          "execution_count": 205
        }
      ]
    },
    {
      "cell_type": "markdown",
      "source": [
        "# 10.Courbe d'apprentissage\n"
      ],
      "metadata": {
        "id": "q_Swn7vJhYN8"
      },
      "id": "q_Swn7vJhYN8"
    },
    {
      "cell_type": "code",
      "source": [
        "plt.plot(range(n_iterations), cost_history)\n",
        "plt.show()"
      ],
      "metadata": {
        "colab": {
          "base_uri": "https://localhost:8080/",
          "height": 430
        },
        "id": "9A3DI2FAY3rX",
        "outputId": "ac329474-efdc-4922-c1f4-477c4c8e1b17"
      },
      "id": "9A3DI2FAY3rX",
      "execution_count": 206,
      "outputs": [
        {
          "output_type": "display_data",
          "data": {
            "text/plain": [
              "<Figure size 640x480 with 1 Axes>"
            ],
            "image/png": "[encoded data removed]"
          },
          "metadata": {}
        }
      ]
    },
    {
      "cell_type": "markdown",
      "source": [
        "# 11.Evaluation du modele\n"
      ],
      "metadata": {
        "id": "OqZzdhllheEN"
      },
      "id": "OqZzdhllheEN"
    },
    {
      "cell_type": "code",
      "source": [
        "# Evaluation du modèle\n",
        "def coef_determination(y, pred):\n",
        "    u = ((y - pred)**2).sum()\n",
        "    v = ((y - y.mean())**2).sum()\n",
        "    return 1 - u/v\n",
        "\n",
        "coef_determination(y_test, model(x_test_norm1,theta_final))"
      ],
      "metadata": {
        "colab": {
          "base_uri": "https://localhost:8080/"
        },
        "id": "B3Q3h4fGZUNk",
        "outputId": "7da58c8a-9949-4f93-99bb-79b4c7b18f62"
      },
      "id": "B3Q3h4fGZUNk",
      "execution_count": 207,
      "outputs": [
        {
          "output_type": "execute_result",
          "data": {
            "text/plain": [
              "np.float64(0.923320318226625)"
            ]
          },
          "metadata": {},
          "execution_count": 207
        }
      ]
    },
    {
      "cell_type": "markdown",
      "id": "05ae0555",
      "metadata": {
        "id": "05ae0555"
      },
      "source": []
    },
    {
      "cell_type": "markdown",
      "source": [
        "# Test de Overfiting"
      ],
      "metadata": {
        "id": "yr9aOs6Phmnp"
      },
      "id": "yr9aOs6Phmnp"
    },
    {
      "cell_type": "markdown",
      "source": [
        "### Normalement on calcul l ecart entre l erreur de d'entrainement et de test si l'ecart est large on aura un overfiting d'ou on doit faire :"
      ],
      "metadata": {
        "id": "PqhMbiz4k0d1"
      },
      "id": "PqhMbiz4k0d1"
    },
    {
      "cell_type": "markdown",
      "source": [
        "#### 1- Regularisation LASSO"
      ],
      "metadata": {
        "id": "HV3Gg4EGlVFK"
      },
      "id": "HV3Gg4EGlVFK"
    },
    {
      "cell_type": "code",
      "source": [
        "def cost_function_regul(X, y, theta,a):\n",
        "  m = len(y)\n",
        "  return 1/(2*m) * np.sum((model(X, theta) - y)**2) + a/m * np.linalg.norm(theta, ord=1)\n",
        "\n"
      ],
      "metadata": {
        "id": "a8pejg-DiiW-"
      },
      "id": "a8pejg-DiiW-",
      "execution_count": 208,
      "outputs": []
    },
    {
      "cell_type": "code",
      "source": [
        "cost_function_regul(x_train_norm1, y_train ,theta, 1)"
      ],
      "metadata": {
        "colab": {
          "base_uri": "https://localhost:8080/"
        },
        "id": "W8-2IJ62i9hw",
        "outputId": "f64e343f-901b-4f6f-9b45-b24d2c144089"
      },
      "id": "W8-2IJ62i9hw",
      "execution_count": 209,
      "outputs": [
        {
          "output_type": "execute_result",
          "data": {
            "text/plain": [
              "np.float64(106.14817065576766)"
            ]
          },
          "metadata": {},
          "execution_count": 209
        }
      ]
    },
    {
      "cell_type": "code",
      "source": [
        "def grad_reg(X, y, theta,a):\n",
        "  m = len(y)\n",
        "  return 1/m * X.T.dot(model(X, theta) - y) + a/m * theta *np.sign(theta)"
      ],
      "metadata": {
        "id": "WJM756XZjhlr"
      },
      "id": "WJM756XZjhlr",
      "execution_count": 210,
      "outputs": []
    },
    {
      "cell_type": "code",
      "source": [
        "# La fonction de la descente du gradient\n",
        "def gradient_descent_reg(X, y, theta, learning_rate, n_iterations):\n",
        "\n",
        "    cost_history = np.zeros(n_iterations) # création d'un tableau de stockage pour enregistrer l'évolution du coût du modèle\n",
        "\n",
        "    for i in range(0, n_iterations):\n",
        "        theta = theta - learning_rate * grad_reg(X, y, theta,1) # mise a jour du paramétre theta (formule de la descente de gradient descent)\n",
        "        cost_history[i] = cost_function_regul(X, y, theta,1) # on enregistre la valeur du coût à l'itération i dans cost_history[i]\n",
        "\n",
        "    return theta, cost_history"
      ],
      "metadata": {
        "id": "6tE4b3_8j5O0"
      },
      "id": "6tE4b3_8j5O0",
      "execution_count": 211,
      "outputs": []
    },
    {
      "cell_type": "code",
      "source": [
        "#Entrainement\n",
        "n_iterations = 5000\n",
        "learning_rate = 0.1\n",
        "theta_final_reg, cost_history_reg = gradient_descent_reg(x_train_norm1, y_train, theta, learning_rate, n_iterations)\n",
        "\n"
      ],
      "metadata": {
        "id": "oblJQRFtj9iQ"
      },
      "id": "oblJQRFtj9iQ",
      "execution_count": 212,
      "outputs": []
    },
    {
      "cell_type": "code",
      "source": [
        "theta_final"
      ],
      "metadata": {
        "colab": {
          "base_uri": "https://localhost:8080/"
        },
        "id": "F3rQ3038kJ5W",
        "outputId": "c9d1ef94-ed58-42d4-d7bf-d33061dd534a"
      },
      "id": "F3rQ3038kJ5W",
      "execution_count": 213,
      "outputs": [
        {
          "output_type": "execute_result",
          "data": {
            "text/plain": [
              "array([[15.330625  ],\n",
              "       [ 6.41396701],\n",
              "       [-0.47204178],\n",
              "       [-0.0389286 ],\n",
              "       [ 1.38577943],\n",
              "       [-0.11930873],\n",
              "       [ 0.14675952],\n",
              "       [-2.69052626],\n",
              "       [ 1.05326583],\n",
              "       [ 0.13492386]])"
            ]
          },
          "metadata": {},
          "execution_count": 213
        }
      ]
    },
    {
      "cell_type": "code",
      "source": [
        "plt.plot(range(n_iterations), cost_history_reg)\n",
        "plt.show()"
      ],
      "metadata": {
        "colab": {
          "base_uri": "https://localhost:8080/",
          "height": 430
        },
        "id": "vw1C2aMlkOOs",
        "outputId": "44cb9c41-9777-4801-c966-00b4844aef46"
      },
      "id": "vw1C2aMlkOOs",
      "execution_count": 214,
      "outputs": [
        {
          "output_type": "display_data",
          "data": {
            "text/plain": [
              "<Figure size 640x480 with 1 Axes>"
            ],
            "image/png": "[encoded data removed]"
          },
          "metadata": {}
        }
      ]
    },
    {
      "cell_type": "code",
      "source": [
        "# Evaluation du modèle\n",
        "def coef_determination(y, pred):\n",
        "    u = ((y - pred)**2).sum()\n",
        "    v = ((y - y.mean())**2).sum()\n",
        "    return 1 - u/v\n",
        "\n",
        "coef_determination(y_test, model(x_test_norm1,theta_final_reg))"
      ],
      "metadata": {
        "colab": {
          "base_uri": "https://localhost:8080/"
        },
        "id": "pVA3kt3tli4n",
        "outputId": "7d5772f1-5f35-4ce0-a131-88325682c9bd"
      },
      "id": "pVA3kt3tli4n",
      "execution_count": 215,
      "outputs": [
        {
          "output_type": "execute_result",
          "data": {
            "text/plain": [
              "np.float64(0.9275400867283321)"
            ]
          },
          "metadata": {},
          "execution_count": 215
        }
      ]
    },
    {
      "cell_type": "markdown",
      "source": [
        "#### 2- Regularisation RIDGE"
      ],
      "metadata": {
        "id": "Dei4IW1Kl1B4"
      },
      "id": "Dei4IW1Kl1B4"
    },
    {
      "cell_type": "code",
      "source": [
        "def cost_function_regul2(X, y, theta,a):\n",
        "  m = len(y)\n",
        "  return 1/(2*m) * np.sum((model(X, theta) - y)**2) + a/(2*m) * np.sum(theta[0:len(theta)-1]**2)"
      ],
      "metadata": {
        "id": "9M0oi7wamKXO"
      },
      "id": "9M0oi7wamKXO",
      "execution_count": 216,
      "outputs": []
    },
    {
      "cell_type": "code",
      "source": [
        "def grad_reg2(X, y, theta,a):\n",
        "  m = len(y)\n",
        "  return 1/m * X.T.dot(model(X, theta) - y) + a/m * theta"
      ],
      "metadata": {
        "id": "kFNwMyifmUsJ"
      },
      "id": "kFNwMyifmUsJ",
      "execution_count": 217,
      "outputs": []
    },
    {
      "cell_type": "code",
      "source": [
        "def gradient_descent_reg(X, y, theta, learning_rate, n_iterations):\n",
        "\n",
        "    cost_history = np.zeros(n_iterations) # création d'un tableau de stockage pour enregistrer l'évolution du coût du modèle\n",
        "\n",
        "    for i in range(0, n_iterations):\n",
        "        theta = theta - learning_rate * grad_reg2(X, y, theta,1) # mise a jour du paramétre theta (formule de la descente de gradient descent)\n",
        "        cost_history[i] = cost_function_regul2(X, y, theta,1) # on enregistre la valeur du coût à l'itération i dans cost_history[i]\n",
        "\n",
        "    return theta, cost_history"
      ],
      "metadata": {
        "id": "JV52vGZcmcpt"
      },
      "id": "JV52vGZcmcpt",
      "execution_count": 218,
      "outputs": []
    },
    {
      "cell_type": "code",
      "source": [
        "#Entrainement\n",
        "n_iterations = 5000\n",
        "learning_rate = 0.1\n",
        "theta_final_reg2, cost_history_reg2 = gradient_descent_reg(x_train_norm1, y_train, theta, learning_rate, n_iterations)\n",
        "\n",
        "theta_final_reg2"
      ],
      "metadata": {
        "colab": {
          "base_uri": "https://localhost:8080/"
        },
        "id": "7_i5uNmQmzRW",
        "outputId": "0d6fdafb-cb12-419b-c874-41ea44dd61be"
      },
      "id": "7_i5uNmQmzRW",
      "execution_count": 219,
      "outputs": [
        {
          "output_type": "execute_result",
          "data": {
            "text/plain": [
              "array([[ 1.52354037e+01],\n",
              "       [ 5.57757113e+00],\n",
              "       [-3.01204002e-01],\n",
              "       [-1.46500497e-02],\n",
              "       [ 1.39663527e+00],\n",
              "       [ 7.03527264e-03],\n",
              "       [ 1.51858950e-01],\n",
              "       [-1.93837320e+00],\n",
              "       [ 8.65999715e-01],\n",
              "       [-5.22497134e-04]])"
            ]
          },
          "metadata": {},
          "execution_count": 219
        }
      ]
    },
    {
      "cell_type": "code",
      "source": [
        "plt.plot(range(n_iterations), cost_history_reg2)\n",
        "plt.show()"
      ],
      "metadata": {
        "colab": {
          "base_uri": "https://localhost:8080/",
          "height": 430
        },
        "id": "Qj8onICqnX7-",
        "outputId": "416a3eb4-b1f6-4c7d-beaa-690386f2f46e"
      },
      "id": "Qj8onICqnX7-",
      "execution_count": 220,
      "outputs": [
        {
          "output_type": "display_data",
          "data": {
            "text/plain": [
              "<Figure size 640x480 with 1 Axes>"
            ],
            "image/png": "[encoded data removed]"
          },
          "metadata": {}
        }
      ]
    },
    {
      "cell_type": "code",
      "source": [
        "# Evaluation du modèle\n",
        "def coef_determination(y, pred):\n",
        "    u = ((y - pred)**2).sum()\n",
        "    v = ((y - y.mean())**2).sum()\n",
        "    return 1 - u/v\n",
        "\n",
        "coef_determination(y_test, model(x_test_norm1,theta_final_reg2))"
      ],
      "metadata": {
        "colab": {
          "base_uri": "https://localhost:8080/"
        },
        "id": "mPpZmTzdnaFA",
        "outputId": "1da01a21-5755-4bd2-a2be-eb978a5b040b"
      },
      "id": "mPpZmTzdnaFA",
      "execution_count": 221,
      "outputs": [
        {
          "output_type": "execute_result",
          "data": {
            "text/plain": [
              "np.float64(0.9252833712001124)"
            ]
          },
          "metadata": {},
          "execution_count": 221
        }
      ]
    },
    {
      "cell_type": "markdown",
      "source": [
        "#### 3- Comparaison de resultats\n",
        "On remarque qu'on a pas d'Overfiting\n",
        "Le nombre d'observations est peut-être suffisant par rapport aux features\n",
        "\n",
        "Les variables sont probablement déjà pertinentes"
      ],
      "metadata": {
        "id": "_2wyr6IZoKlb"
      },
      "id": "_2wyr6IZoKlb"
    }
  ],
  "metadata": {
    "kernelspec": {
      "display_name": "Python 3",
      "language": "python",
      "name": "python3"
    },
    "language_info": {
      "codemirror_mode": {
        "name": "ipython",
        "version": 3
      },
      "file_extension": ".py",
      "mimetype": "text/x-python",
      "name": "python",
      "nbconvert_exporter": "python",
      "pygments_lexer": "ipython3",
      "version": "3.12.6"
    },
    "colab": {
      "provenance": [],
      "toc_visible": true
    }
  },
  "nbformat": 4,
  "nbformat_minor": 5
}